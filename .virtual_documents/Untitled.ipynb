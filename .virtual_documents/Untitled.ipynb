import lightkurve as lk
import matplotlib.pyplot as plt
import numpy as np
import math
import sys
from numpy import array,append,arange,zeros,exp,sin,random,std
from scipy.interpolate import interp1d
import pandas as pd
from scipy.signal import savgol_filter
import time

import itertools
from astropy.table import Table
from lightkurve import LightCurve

import warnings
from astropy.utils.exceptions import AstropyWarning


class LightkurveAnalysisSingleObj():

  def __init__(self, kicid='', period='', snr='', kepname='', mission = 'Kepler'):
    self.kicid = kicid
    self.period = period
    self.snr = snr
    self.kepname = kepname
    self.mission = 'Kepler'
    self.lc_obj_save_path = "/content/drive/MyDrive/Megastructure-2025/Data/Kepler/Phase-Folded-HDF5-OBJ/"
    self.savedfilename = kicid+'_'+kepname+'.hdf5'
    
  def lk_search(self):
    search_result = lk.search_lightcurve(self.kicid, mission='Kepler', exptime=1800)
    self.lc_collection = search_result[:].download_all()
    
  def lk_stitch(self):
    self.lc_raw = self.lc_collection.stitch()
    self.lc_clean = self.lc_raw.remove_outliers(sigma_upper=1.0,sigma_lower=float('inf'))
    

  def lk_periodogram(self):
    if self.period>0 and self.period-2>0:
      period_range = np.linspace(self.period-1,self.period+1,10000)

    elif self.period>0 and (self.period-2<=0):
      period_range = np.linspace(0.5,2.1,10000)
 
    bls = self.lc_clean.to_periodogram(method='bls', period=period_range, frequency_factor=1000)

    self.planet_b_period = bls.period_at_max_power
    self.planet_b_t0 = bls.transit_time_at_max_power
    self.planet_b_dur = bls.duration_at_max_power

    # Check the value for period
    print("planet_b_period =", self.planet_b_period)
    print("planet_b_t0 =", self.planet_b_t0)
    print("planet_b_dur =", self.planet_b_dur)

  def lk_phasefold(self,show=False):

    temp_fold = self.lc_clean.fold(self.planet_b_period, epoch_time=self.planet_b_t0)
    fractional_duration = (self.planet_b_dur / 24.0) / self.planet_b_period
    phase_mask = np.abs(temp_fold.phase.value) < (fractional_duration * 1.5)
    transit_mask = np.isin(self.lc_clean.time.value, temp_fold.time_original.value[phase_mask])
    #print('fractional_duration',fractional_duration)

    # remove the flux trend from the LC by dividing by the trend_lc
    lc_flat, trend_lc = self.lc_clean.flatten(return_trend=True, mask=transit_mask)

    # fold the trend corrected LC
    self.lc_fold = lc_flat.fold(self.planet_b_period, epoch_time=self.planet_b_t0,normalize_phase=True)
    if show:
      plt.scatter(self.lc_fold.time.value, self.lc_fold.flux.value,s=1,label='cleaned folded',c='k')
      plt.legend()
      plt.show()

  def save_lk_phasefolded(self):
    self.savename = self.lc_obj_save_path+self.savedfilename

    with warnings.catch_warnings():
      warnings.simplefilter("ignore", category=AstropyWarning)
      warnings.filterwarnings("ignore", module="astroquery")
      self.lc_fold.write(self.savename, path="data",serialize_meta=False, overwrite=True)


  def read_lk_phasefolded(self,show=False):
    lc_obj = Table.read(self.savename, path="data") # path = data is internal path inside HDF5 file

    self.lc_fold_load = LightCurve(time=lc_obj["time"],flux=lc_obj["flux"])
    print('self.lc_fold_load',self.lc_fold_load.colnames)

    if show:
      plt.scatter(self.lc_fold.time.value,self.lc_fold.flux.value,s=2, c='k')
      plt.scatter(self.lc_fold_load.time.value,self.lc_fold_load.flux.value,s=1, c='r',alpha=0.6)
      plt.show()

  def lk_bin_phasefolded(self):
    phase = self.lc_fold_load.time.value
    flux = self.lc_fold_load.flux.value
    nbin = 5
    phase_cadence = phase[1:]-phase[0:-1]

    plt.hist(phase_cadence)
    plt.show()

